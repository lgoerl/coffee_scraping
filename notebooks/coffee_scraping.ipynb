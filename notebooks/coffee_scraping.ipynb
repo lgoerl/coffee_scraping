{
 "cells": [
  {
   "cell_type": "code",
   "execution_count": 2,
   "id": "processed-railway",
   "metadata": {},
   "outputs": [],
   "source": [
    "import pandas as pd\n",
    "# from dotenv import load_dotenv\n",
    "import logging, os, pickle, requests\n",
    "from bs4 import BeautifulSoup\n",
    "from sqlalchemy import create_engine\n",
    "\n",
    "coffee_belt_response_dir_path = f\"{os.path.expanduser('~')}/work/Repositories/coffee_scraping/src/tests/data\"\n",
    "def save_response(resp, filename):\n",
    "    with open(f\"{os.path.expanduser('~')}/work/Repositories/coffee_scraping/src/tests/data/onyx_collection_response/{filename}.pickle\", \"wb\") as f:\n",
    "        pickle.dump(resp, f)"
   ]
  },
  {
   "cell_type": "markdown",
   "id": "monthly-session",
   "metadata": {},
   "source": [
    "# All products"
   ]
  },
  {
   "cell_type": "markdown",
   "id": "c15a3990-c523-4c1c-9838-6c97cf8da556",
   "metadata": {},
   "source": [
    "## Slate"
   ]
  },
  {
   "cell_type": "code",
   "execution_count": 7,
   "id": "3c9f9eee-b098-450c-9087-436b44493bbf",
   "metadata": {},
   "outputs": [],
   "source": [
    "# get products\n",
    "base_url = \"https://slatecoffee.com\"\n",
    "products_url = f\"{base_url}/product-category/coffee\"\n",
    "request_header = {\"User-Agent\": \"Mozilla/5.0\"}\n",
    "products_response = requests.get(products_url, headers=request_header)\n",
    "products_soup = BeautifulSoup(products_response.text, \"html.parser\")\n",
    "products_view = products_soup.find(\"div\", class_=\"shop-container\").find_all(\"a\", class_=lambda v: v and \"product__link\" in v, href=True)"
   ]
  },
  {
   "cell_type": "code",
   "execution_count": 28,
   "id": "d3ef708d-47a7-4248-9c3e-59429fbef014",
   "metadata": {},
   "outputs": [
    {
     "name": "stdout",
     "output_type": "stream",
     "text": [
      "<p><strong><span style=\"font-size: 18pt;\">GEDEO ZONE, ETHIOPIA</span><br/>\n",
      "Producer</strong>  <em>1000 smallholder farmers</em><br/>\n",
      "<strong>Region </strong> <em>Shanta Wene, Bensa Woreda, Sidama, Ethiopia</em><br/>\n",
      "<strong>Cultivar </strong> <em>Kurume</em><br/>\n",
      "<strong>Processing</strong>  <em>Full natural and dried on raised beds</em><br/>\n",
      "<strong>Elevation </strong> <em>1900 – 2100 masl</em></p>\n",
      "<p><strong>UPON TASTING</strong></p>\n",
      "<p><i>Boysenberry Syrup, Licorice, Dark Chocolate</i></p>\n",
      "<p>Shanta Wene is located in the region of Sidama, know for its complex, spicy, and citric coffees. However, the farms around Shanta Wene are located in Bensa Woreda micro-region, which produces very unique profiles from the rest of the coffees in the greater Sidama Zone. Coffees from Bensa are know to be uniquely fruity and very rich with standout berry and tropical notes. Sidama has one of the most robust cooperative unions in Ethiopia with 53 member cooperatives, as well as a thriving industry of independent washing stations. Testi Ayla is one such independent washing station, operated by Faysel Yonis. Located in Shanta Wene, a small community in eastern Sidama, close to the Harenna Forest preserve. Testi Ayla receives coffee cherries from 1000 smallholder farmers with land averaging only two hectares. These farms are located on some of the highest elevations in the whole of Sidama. This grade 1 natural, which is rare for the region, is dried and dehydrated slowly due to the cool nights and hot afternoon hours. The result is a clean, boysenberry-like cup with abundant complexity and a surprisingly creamy mouthfeel. Upon tasting, you will be greeted by a lingering sweet boysenberry syrup, followed by a unique licorice note and finishing with a rich dark chocolate aftertaste.</p>\n"
     ]
    }
   ],
   "source": [
    "# get roast\n",
    "# roast_url = \"https://slatecoffee.com/product/ethiopia-shanta-wene/\"\n",
    "# response = requests.get(roast_url, headers=request_header)\n",
    "# soup = BeautifulSoup(response.text, \"html.parser\")\n",
    "# info_tags = soup.find(\"div\", class_=\"product-short-description\").find_all(\"p\")\n",
    "for i in info_tags:\n",
    "    print(i)"
   ]
  },
  {
   "cell_type": "code",
   "execution_count": 38,
   "id": "c3f6bd11-1af6-4316-982c-ddff1b8add7d",
   "metadata": {},
   "outputs": [
    {
     "data": {
      "text/plain": [
       "<p><strong><span style=\"font-size: 18pt;\">GEDEO ZONE, ETHIOPIA</span><br/>\n",
       "Producer</strong>  <em>1000 smallholder farmers</em><br/>\n",
       "<strong>Region </strong> <em>Shanta Wene, Bensa Woreda, Sidama, Ethiopia</em><br/>\n",
       "<strong>Cultivar </strong> <em>Kurume</em><br/>\n",
       "<strong>Processing</strong>  <em>Full natural and dried on raised beds</em><br/>\n",
       "<strong>Elevation </strong> <em>1900 – 2100 masl</em></p>"
      ]
     },
     "execution_count": 38,
     "metadata": {},
     "output_type": "execute_result"
    }
   ],
   "source": [
    "features = dict()\n",
    "info_tags[0]\n",
    "# [t.em for t in info_tags[0]]"
   ]
  },
  {
   "cell_type": "code",
   "execution_count": 31,
   "id": "857b843f-3186-4982-a5e8-55e022981e96",
   "metadata": {},
   "outputs": [
    {
     "name": "stdout",
     "output_type": "stream",
     "text": [
      "<strong><span style=\"font-size: 18pt;\">GEDEO ZONE, ETHIOPIA</span><br/>\n",
      "Producer</strong>\n",
      "<strong>UPON TASTING</strong>\n",
      "None\n",
      "None\n"
     ]
    }
   ],
   "source": [
    "for p in info_tags:\n",
    "    try:\n",
    "        print(p.find(\"strong\"))\n",
    "    except:\n",
    "        pass"
   ]
  },
  {
   "cell_type": "markdown",
   "id": "9339feba-4344-4532-8a83-c1b0e7703bc1",
   "metadata": {},
   "source": [
    "## Onyx"
   ]
  },
  {
   "cell_type": "code",
   "execution_count": 2,
   "id": "inclusive-newspaper",
   "metadata": {},
   "outputs": [],
   "source": [
    "# get products\n",
    "base_url = \"https://onyxcoffeelab.com\"\n",
    "products_url = f\"{base_url}/collections/coffee\"\n",
    "request_header = {\"User-Agent\": \"Mozilla/5.0\"}\n",
    "products_response = requests.get(products_url, headers=request_header)\n",
    "products_soup = BeautifulSoup(products_response.text, \"html.parser\")\n",
    "products_view = products_soup.find_all(\"a\", class_=\"product-preview\", href=True)"
   ]
  },
  {
   "cell_type": "code",
   "execution_count": 10,
   "id": "62576d41-7515-4951-befe-83522ac69dd2",
   "metadata": {},
   "outputs": [],
   "source": [
    "import pickle\n",
    "\n",
    "with open(f\"{os.path.expanduser('~')}/work/Repositories/coffee_scraping/src/tests/data/onyx_collection_response\", \"wb\") as f:\n",
    "    pickle.dump(products_response, f)"
   ]
  },
  {
   "cell_type": "code",
   "execution_count": 7,
   "id": "b77cca11-4766-4da4-8cc2-05ab35d8e833",
   "metadata": {},
   "outputs": [],
   "source": [
    "with open(f\"{os.path.expanduser('~')}/work/Repositories/coffee_scraping/src/tests/data/onyx_collection_response\", \"w\") as f:\n",
    "    f.write(products_response.text)"
   ]
  },
  {
   "cell_type": "code",
   "execution_count": 4,
   "id": "speaking-miracle",
   "metadata": {},
   "outputs": [
    {
     "name": "stdout",
     "output_type": "stream",
     "text": [
      "/products/southern-weather\n",
      "/products/geometry\n"
     ]
    }
   ],
   "source": [
    "for p in products_view[:2]:\n",
    "    print(p[\"href\"])"
   ]
  },
  {
   "cell_type": "code",
   "execution_count": 9,
   "id": "reduced-degree",
   "metadata": {},
   "outputs": [],
   "source": [
    "import logging"
   ]
  },
  {
   "cell_type": "code",
   "execution_count": 27,
   "id": "breeding-crystal",
   "metadata": {},
   "outputs": [],
   "source": [
    "def get_roast(roast_href):\n",
    "    roast_url = f\"{base_url}{roast_href}\"\n",
    "    logging.warning(roast_url)\n",
    "    response = requests.get(roast_url, headers=request_header)\n",
    "    soup = BeautifulSoup(response.text, \"html.parser\")\n",
    "    title = soup.title.text\n",
    "    stats = soup.find(\"div\", class_=lambda t: t and \"coffee-stats\" in t)\n",
    "    features = {\n",
    "        \"href\": roast_href,\n",
    "        \"title\": title,\n",
    "    }\n",
    "    for feat in stats.find_all(class_=\"a-feature\"):\n",
    "        feature_label = feat.find(class_=\"label\").text.replace(\":\", \"\")\n",
    "        feature_value = feat.find(class_=\"value\").text\n",
    "        features[feature_label] = feature_value\n",
    "    if set(features.keys()) == {\"href\", \"title\"}:\n",
    "        raise ValueError(\n",
    "            f\"No attributes found.\"+\n",
    "            \" Check {roast_url} to verify roast notes are under '+coffee-stats' div tag as feature/value tags of 'a-feature' class\"\n",
    "        )\n",
    "    return features"
   ]
  },
  {
   "cell_type": "code",
   "execution_count": 28,
   "id": "intellectual-funds",
   "metadata": {},
   "outputs": [
    {
     "name": "stderr",
     "output_type": "stream",
     "text": [
      "WARNING:root:https://onyxcoffeelab.com/products/geometry\n"
     ]
    },
    {
     "data": {
      "text/plain": [
       "{'href': '/products/geometry',\n",
       " 'title': 'Onyx Coffee Lab Geometry',\n",
       " 'Origin': 'Colombia, Ethiopia',\n",
       " 'Process': 'Washed',\n",
       " 'Elevation': '1950 - 2100 Meters',\n",
       " 'Cup': 'Berries, Sweet Lemon, Earl Grey, Honey, Silky & Round'}"
      ]
     },
     "execution_count": 28,
     "metadata": {},
     "output_type": "execute_result"
    }
   ],
   "source": [
    "get_roast(\"/products/geometry\")"
   ]
  },
  {
   "cell_type": "code",
   "execution_count": 14,
   "id": "d6648086-9161-47a6-806a-90c640692464",
   "metadata": {},
   "outputs": [
    {
     "data": {
      "text/plain": [
       "'https://onyxcoffeelab.com/products/geometry'"
      ]
     },
     "execution_count": 14,
     "metadata": {},
     "output_type": "execute_result"
    }
   ],
   "source": [
    "roast_url"
   ]
  },
  {
   "cell_type": "code",
   "execution_count": 12,
   "id": "duplicate-polls",
   "metadata": {},
   "outputs": [],
   "source": [
    "roast_href = \"/products/geometry\"\n",
    "roast_url = f\"{base_url}{roast_href}\"\n",
    "response = requests.get(roast_url, headers=request_header)\n",
    "soup = BeautifulSoup(response.text, \"html.parser\")\n",
    "title = soup.title.text\n",
    "stats = soup.find(\"div\", class_=lambda t: t and \"coffee-stats\" in t)\n",
    "features = {\n",
    "    \"href\": roast_href,\n",
    "    \"title\": title,\n",
    "}"
   ]
  },
  {
   "cell_type": "code",
   "execution_count": 13,
   "id": "72b71615-789b-4745-a608-ee8ebdcc8254",
   "metadata": {},
   "outputs": [],
   "source": [
    "with open(f\"{os.path.expanduser('~')}/work/Repositories/coffee_scraping/src/tests/data/geometry_response\", \"wb\") as f:\n",
    "    pickle.dump(response, f)"
   ]
  },
  {
   "cell_type": "code",
   "execution_count": 16,
   "id": "available-outline",
   "metadata": {},
   "outputs": [
    {
     "data": {
      "text/plain": [
       "'https://onyxcoffeelab.com/products/geometry'"
      ]
     },
     "execution_count": 16,
     "metadata": {},
     "output_type": "execute_result"
    }
   ],
   "source": [
    "response.url"
   ]
  },
  {
   "cell_type": "code",
   "execution_count": 35,
   "id": "concrete-introduction",
   "metadata": {},
   "outputs": [
    {
     "ename": "AttributeError",
     "evalue": "'NoneType' object has no attribute 'text'",
     "output_type": "error",
     "traceback": [
      "\u001b[0;31m---------------------------------------------------------------------------\u001b[0m",
      "\u001b[0;31mAttributeError\u001b[0m                            Traceback (most recent call last)",
      "\u001b[0;32m/tmp/ipykernel_74838/1746983914.py\u001b[0m in \u001b[0;36m<module>\u001b[0;34m\u001b[0m\n\u001b[0;32m----> 1\u001b[0;31m \u001b[0msoup\u001b[0m\u001b[0;34m.\u001b[0m\u001b[0mfind\u001b[0m\u001b[0;34m(\u001b[0m\u001b[0;34m\"div\"\u001b[0m\u001b[0;34m,\u001b[0m \u001b[0mclass_\u001b[0m\u001b[0;34m=\u001b[0m\u001b[0;34m\"main-blurb\"\u001b[0m\u001b[0;34m)\u001b[0m\u001b[0;34m.\u001b[0m\u001b[0mfind\u001b[0m\u001b[0;34m(\u001b[0m\u001b[0;34m\"q\"\u001b[0m\u001b[0;34m)\u001b[0m\u001b[0;34m.\u001b[0m\u001b[0mtext\u001b[0m\u001b[0;34m\u001b[0m\u001b[0;34m\u001b[0m\u001b[0m\n\u001b[0m",
      "\u001b[0;31mAttributeError\u001b[0m: 'NoneType' object has no attribute 'text'"
     ]
    }
   ],
   "source": [
    "soup.find(\"div\", class_=\"main-blurb\").find(\"q\").text"
   ]
  },
  {
   "cell_type": "code",
   "execution_count": 31,
   "id": "noticed-leisure",
   "metadata": {},
   "outputs": [
    {
     "data": {
      "text/plain": [
       "'Geometry has been defined as \"describing spaces that lie beyond the normal range of human experience.\" Soon it will also be defined as \"that coffee from Onyx that I am in love with and completely redefined my relationship with coffee.\"\\nIt\\'s our answer for everything and has two of our favorite coffees—a washed processed Ethiopian & Colombian. This blend has become one of our favorite coffees. We love it as a filter coffee, and we love it as espresso. And not only does is it taste great as either but it\\'s easy to dial in as espresso or filter.'"
      ]
     },
     "execution_count": 31,
     "metadata": {},
     "output_type": "execute_result"
    }
   ],
   "source": [
    "soup.find(\"div\", class_=\"main-blurb\").find(\"p\").text"
   ]
  },
  {
   "cell_type": "code",
   "execution_count": 32,
   "id": "absolute-monitoring",
   "metadata": {},
   "outputs": [
    {
     "data": {
      "text/plain": [
       "[\"Admit it—when you were a kid, you didn't think you would be thinking of Geometry as an adult. But we have turned the tables on you, like a Lazy Susan. But don't worry, our Geometry will not stress you out like middle school. Great as a filter coffee or an espresso, this blend has become our answer for everything. Don't believe us? Here are some examples:\",\n",
       " 'Q: Which coffee do you want for filter coffee?\\nA: Geometry',\n",
       " 'Q: What coffee should we have as an espresso?\\nA: Geometry',\n",
       " 'Q: The Pythagorean theorem is a formula used in which form of mathematics?\\nA: Geometry',\n",
       " 'This coffee is ridiculously good and approachable while also remaining complex. It will convert even the most skeptical towards Specialty.',\n",
       " 'BLEND APPROACH',\n",
       " 'Our approach to creating blends is a bit different at Onyx. Instead of choosing coffees from specific countries or regions that will, in theory, intertwine well to develop complex & cohesive flavors like most, we start from the end and work our way back. This perspective means we choose to create a particular flavor profile first - deciding which acidities, sugars, and fats we want to accentuate for the coffee. Once a flavor profile has been set, in this case, blueberry, lemon, and tea for Geometry. We then start cupping blind through a large number of coffees to find these specific attributes. With this blend, the Colombian gives us a syrupy, clean, fermented fruit flavor. It shows itself upfront and in the finish. Next, we add a washed Ethiopian to add more fruit and complexity. ',\n",
       " 'The purpose is that once a flavor profile is created, we update the coffees that make up Geometry every 2-3 months. This allows us to have a year-round blend with a flavor profile of high quality while retaining our commitment to seasonal coffees. This vigorous amount of cupping and blending takes a considerable amount of time. But we really think it makes the difference and is a system we use for all our blends.',\n",
       " 'Feel excited that the coffee you are tasting is always in season, and therefore, it is cupping and tasting to its full potential. We will never compromise our commitment to high-quality coffees and blends, whether it’s a single origin release or a blend component. You will not find Onyx buying “blender” coffees to save cost or prolong a good coffee. We also always keep blends to three coffees or less and maintain ratios in the build. This way what you extract is the flavor profile we designed.']"
      ]
     },
     "execution_count": 32,
     "metadata": {},
     "output_type": "execute_result"
    }
   ],
   "source": [
    "[p.text for p in soup.find(\"div\", class_=\"story\").find(\"div\", class_=\"blurb\").find_all(\"p\")]"
   ]
  },
  {
   "cell_type": "code",
   "execution_count": null,
   "id": "processed-authentication",
   "metadata": {},
   "outputs": [],
   "source": [
    "result = {'_node_def': <dagster.core.definitions.graph_definition.GraphDefinition object at 0x121ee38b0>, '_handle': NodeHandle(name='get_active_products', parent=None), '_event_list': [DagsterEvent(event_type_value='PIPELINE_START', pipeline_name='get_active_products', step_handle=None, solid_handle=None, step_kind_value=None, logging_tags={}, event_specific_data=None, message='Started execution of run for \"get_active_products\".', pid=12762, step_key=None), DagsterEvent(event_type_value='ENGINE_EVENT', pipeline_name='get_active_products', step_handle=None, solid_handle=None, step_kind_value=None, logging_tags={}, event_specific_data=EngineEventData(metadata_entries=[EventMetadataEntry(label='pid', description=None, entry_data=TextMetadataEntryData(text='12762')), EventMetadataEntry(label='step_keys', description=None, entry_data=TextMetadataEntryData(text=\"['get_product_list', 'get_product_info[?]', 'process_product_collection']\"))], error=None, marker_start=None, marker_end=None), message='Executing steps in process (pid: 12762)', pid=12762, step_key=None), DagsterEvent(event_type_value='ENGINE_EVENT', pipeline_name='get_active_products', step_handle=None, solid_handle=None, step_kind_value=None, logging_tags={}, event_specific_data=EngineEventData(metadata_entries=[], error=None, marker_start='resources', marker_end=None), message='Starting initialization of resources [api_client, io_manager].', pid=12762, step_key=None), DagsterEvent(event_type_value='ENGINE_EVENT', pipeline_name='get_active_products', step_handle=None, solid_handle=None, step_kind_value=None, logging_tags={}, event_specific_data=EngineEventData(metadata_entries=[EventMetadataEntry(label='api_client', description='Initialized in 0.04ms', entry_data=PythonArtifactMetadataEntryData(module='dags.resources.api_clients.onyx_api_scraper', name='OnyxMockScraper')), EventMetadataEntry(label='io_manager', description='Initialized in 0.03ms', entry_data=PythonArtifactMetadataEntryData(module='dagster.core.storage.mem_io_manager', name='InMemoryIOManager'))], error=None, marker_start=None, marker_end='resources'), message='Finished initialization of resources [api_client, io_manager].', pid=12762, step_key=None), DagsterEvent(event_type_value='LOGS_CAPTURED', pipeline_name='get_active_products', step_handle=StepHandle(solid_handle=NodeHandle(name='get_product_list', parent=None), key='get_product_list'), solid_handle=NodeHandle(name='get_product_list', parent=None), step_kind_value='COMPUTE', logging_tags={'run_id': '4e6625d2-7d4b-457c-9b30-dd88612ef8c9', 'pipeline_name': 'get_active_products', 'pipeline_tags': '{}', 'step_key': 'get_product_list', 'solid_name': 'get_product_list', 'resource_name': 'None', 'resource_fn_name': 'None'}, event_specific_data=ComputeLogsCaptureData(log_key='get_product_list', step_keys=['get_product_list']), message='Started capturing logs for step: get_product_list.', pid=12762, step_key='get_product_list'), DagsterEvent(event_type_value='STEP_START', pipeline_name='get_active_products', step_handle=StepHandle(solid_handle=NodeHandle(name='get_product_list', parent=None), key='get_product_list'), solid_handle=NodeHandle(name='get_product_list', parent=None), step_kind_value='COMPUTE', logging_tags={'run_id': '4e6625d2-7d4b-457c-9b30-dd88612ef8c9', 'pipeline_name': 'get_active_products', 'pipeline_tags': '{}', 'step_key': 'get_product_list', 'solid_name': 'get_product_list', 'resource_name': 'None', 'resource_fn_name': 'None'}, event_specific_data=None, message='Started execution of step \"get_product_list\".', pid=12762, step_key='get_product_list'), DagsterEvent(event_type_value='STEP_OUTPUT', pipeline_name='get_active_products', step_handle=StepHandle(solid_handle=NodeHandle(name='get_product_list', parent=None), key='get_product_list'), solid_handle=NodeHandle(name='get_product_list', parent=None), step_kind_value='COMPUTE', logging_tags={'run_id': '4e6625d2-7d4b-457c-9b30-dd88612ef8c9', 'pipeline_name': 'get_active_products', 'pipeline_tags': '{}', 'step_key': 'get_product_list', 'solid_name': 'get_product_list', 'resource_name': 'None', 'resource_fn_name': 'None'}, event_specific_data=StepOutputData(step_output_handle=StepOutputHandle(step_key='get_product_list', output_name='result', mapping_key='_products_geometry'), type_check_data=TypeCheckData(success=True, label='result', description=None, metadata_entries=[]), version=None, metadata_entries=[]), message='Yielded output \"result\" mapping key \"_products_geometry\" of type \"String\". (Type check passed).', pid=12762, step_key='get_product_list'), DagsterEvent(event_type_value='HANDLED_OUTPUT', pipeline_name='get_active_products', step_handle=StepHandle(solid_handle=NodeHandle(name='get_product_list', parent=None), key='get_product_list'), solid_handle=NodeHandle(name='get_product_list', parent=None), step_kind_value='COMPUTE', logging_tags={'run_id': '4e6625d2-7d4b-457c-9b30-dd88612ef8c9', 'pipeline_name': 'get_active_products', 'pipeline_tags': '{}', 'step_key': 'get_product_list', 'solid_name': 'get_product_list', 'resource_name': 'None', 'resource_fn_name': 'None'}, event_specific_data=HandledOutputData(output_name='result', manager_key='io_manager', metadata_entries=[]), message='Handled output \"result\" using IO manager \"io_manager\"', pid=12762, step_key='get_product_list'), DagsterEvent(event_type_value='STEP_SUCCESS', pipeline_name='get_active_products', step_handle=StepHandle(solid_handle=NodeHandle(name='get_product_list', parent=None), key='get_product_list'), solid_handle=NodeHandle(name='get_product_list', parent=None), step_kind_value='COMPUTE', logging_tags={'run_id': '4e6625d2-7d4b-457c-9b30-dd88612ef8c9', 'pipeline_name': 'get_active_products', 'pipeline_tags': '{}', 'step_key': 'get_product_list', 'solid_name': 'get_product_list', 'resource_name': 'None', 'resource_fn_name': 'None'}, event_specific_data=StepSuccessData(duration_ms=1.15246999999985), message='Finished execution of step \"get_product_list\" in 1.15ms.', pid=12762, step_key='get_product_list'), DagsterEvent(event_type_value='LOGS_CAPTURED', pipeline_name='get_active_products', step_handle=ResolvedFromDynamicStepHandle(solid_handle=NodeHandle(name='get_product_info', parent=None), mapping_key='_products_geometry', key='get_product_info[_products_geometry]'), solid_handle=NodeHandle(name='get_product_info', parent=None), step_kind_value='COMPUTE', logging_tags={'run_id': '4e6625d2-7d4b-457c-9b30-dd88612ef8c9', 'pipeline_name': 'get_active_products', 'pipeline_tags': '{}', 'step_key': 'get_product_info[_products_geometry]', 'solid_name': 'get_product_info', 'resource_name': 'None', 'resource_fn_name': 'None'}, event_specific_data=ComputeLogsCaptureData(log_key='get_product_info[_products_geometry]', step_keys=['get_product_info[_products_geometry]']), message='Started capturing logs for step: get_product_info[_products_geometry].', pid=12762, step_key='get_product_info[_products_geometry]'), DagsterEvent(event_type_value='STEP_START', pipeline_name='get_active_products', step_handle=ResolvedFromDynamicStepHandle(solid_handle=NodeHandle(name='get_product_info', parent=None), mapping_key='_products_geometry', key='get_product_info[_products_geometry]'), solid_handle=NodeHandle(name='get_product_info', parent=None), step_kind_value='COMPUTE', logging_tags={'run_id': '4e6625d2-7d4b-457c-9b30-dd88612ef8c9', 'pipeline_name': 'get_active_products', 'pipeline_tags': '{}', 'step_key': 'get_product_info[_products_geometry]', 'solid_name': 'get_product_info', 'resource_name': 'None', 'resource_fn_name': 'None'}, event_specific_data=None, message='Started execution of step \"get_product_info[_products_geometry]\".', pid=12762, step_key='get_product_info[_products_geometry]'), DagsterEvent(event_type_value='LOADED_INPUT', pipeline_name='get_active_products', step_handle=ResolvedFromDynamicStepHandle(solid_handle=NodeHandle(name='get_product_info', parent=None), mapping_key='_products_geometry', key='get_product_info[_products_geometry]'), solid_handle=NodeHandle(name='get_product_info', parent=None), step_kind_value='COMPUTE', logging_tags={'run_id': '4e6625d2-7d4b-457c-9b30-dd88612ef8c9', 'pipeline_name': 'get_active_products', 'pipeline_tags': '{}', 'step_key': 'get_product_info[_products_geometry]', 'solid_name': 'get_product_info', 'resource_name': 'None', 'resource_fn_name': 'None'}, event_specific_data=LoadedInputData(input_name='product', manager_key='io_manager', upstream_output_name='result', upstream_step_key='get_product_list'), message='Loaded input \"product\" using input manager \"io_manager\", from output \"result\" of step \"get_product_list\"', pid=12762, step_key='get_product_info[_products_geometry]'), DagsterEvent(event_type_value='STEP_INPUT', pipeline_name='get_active_products', step_handle=ResolvedFromDynamicStepHandle(solid_handle=NodeHandle(name='get_product_info', parent=None), mapping_key='_products_geometry', key='get_product_info[_products_geometry]'), solid_handle=NodeHandle(name='get_product_info', parent=None), step_kind_value='COMPUTE', logging_tags={'run_id': '4e6625d2-7d4b-457c-9b30-dd88612ef8c9', 'pipeline_name': 'get_active_products', 'pipeline_tags': '{}', 'step_key': 'get_product_info[_products_geometry]', 'solid_name': 'get_product_info', 'resource_name': 'None', 'resource_fn_name': 'None'}, event_specific_data=StepInputData(input_name='product', type_check_data=TypeCheckData(success=True, label='product', description=None, metadata_entries=[])), message='Got input \"product\" of type \"String\". (Type check passed).', pid=12762, step_key='get_product_info[_products_geometry]'), DagsterEvent(event_type_value='STEP_OUTPUT', pipeline_name='get_active_products', step_handle=ResolvedFromDynamicStepHandle(solid_handle=NodeHandle(name='get_product_info', parent=None), mapping_key='_products_geometry', key='get_product_info[_products_geometry]'), solid_handle=NodeHandle(name='get_product_info', parent=None), step_kind_value='COMPUTE', logging_tags={'run_id': '4e6625d2-7d4b-457c-9b30-dd88612ef8c9', 'pipeline_name': 'get_active_products', 'pipeline_tags': '{}', 'step_key': 'get_product_info[_products_geometry]', 'solid_name': 'get_product_info', 'resource_name': 'None', 'resource_fn_name': 'None'}, event_specific_data=StepOutputData(step_output_handle=StepOutputHandle(step_key='get_product_info[_products_geometry]', output_name='result', mapping_key=None), type_check_data=TypeCheckData(success=True, label='result', description=None, metadata_entries=[]), version=None, metadata_entries=[]), message='Yielded output \"result\" of type \"Any\". (Type check passed).', pid=12762, step_key='get_product_info[_products_geometry]'), DagsterEvent(event_type_value='HANDLED_OUTPUT', pipeline_name='get_active_products', step_handle=ResolvedFromDynamicStepHandle(solid_handle=NodeHandle(name='get_product_info', parent=None), mapping_key='_products_geometry', key='get_product_info[_products_geometry]'), solid_handle=NodeHandle(name='get_product_info', parent=None), step_kind_value='COMPUTE', logging_tags={'run_id': '4e6625d2-7d4b-457c-9b30-dd88612ef8c9', 'pipeline_name': 'get_active_products', 'pipeline_tags': '{}', 'step_key': 'get_product_info[_products_geometry]', 'solid_name': 'get_product_info', 'resource_name': 'None', 'resource_fn_name': 'None'}, event_specific_data=HandledOutputData(output_name='result', manager_key='io_manager', metadata_entries=[]), message='Handled output \"result\" using IO manager \"io_manager\"', pid=12762, step_key='get_product_info[_products_geometry]'), DagsterEvent(event_type_value='STEP_SUCCESS', pipeline_name='get_active_products', step_handle=ResolvedFromDynamicStepHandle(solid_handle=NodeHandle(name='get_product_info', parent=None), mapping_key='_products_geometry', key='get_product_info[_products_geometry]'), solid_handle=NodeHandle(name='get_product_info', parent=None), step_kind_value='COMPUTE', logging_tags={'run_id': '4e6625d2-7d4b-457c-9b30-dd88612ef8c9', 'pipeline_name': 'get_active_products', 'pipeline_tags': '{}', 'step_key': 'get_product_info[_products_geometry]', 'solid_name': 'get_product_info', 'resource_name': 'None', 'resource_fn_name': 'None'}, event_specific_data=StepSuccessData(duration_ms=53.357352999999996), message='Finished execution of step \"get_product_info[_products_geometry]\" in 53ms.', pid=12762, step_key='get_product_info[_products_geometry]'), DagsterEvent(event_type_value='LOGS_CAPTURED', pipeline_name='get_active_products', step_handle=StepHandle(solid_handle=NodeHandle(name='process_product_collection', parent=None), key='process_product_collection'), solid_handle=NodeHandle(name='process_product_collection', parent=None), step_kind_value='COMPUTE', logging_tags={'run_id': '4e6625d2-7d4b-457c-9b30-dd88612ef8c9', 'pipeline_name': 'get_active_products', 'pipeline_tags': '{}', 'step_key': 'process_product_collection', 'solid_name': 'process_product_collection', 'resource_name': 'None', 'resource_fn_name': 'None'}, event_specific_data=ComputeLogsCaptureData(log_key='process_product_collection', step_keys=['process_product_collection']), message='Started capturing logs for step: process_product_collection.', pid=12762, step_key='process_product_collection'), DagsterEvent(event_type_value='STEP_START', pipeline_name='get_active_products', step_handle=StepHandle(solid_handle=NodeHandle(name='process_product_collection', parent=None), key='process_product_collection'), solid_handle=NodeHandle(name='process_product_collection', parent=None), step_kind_value='COMPUTE', logging_tags={'run_id': '4e6625d2-7d4b-457c-9b30-dd88612ef8c9', 'pipeline_name': 'get_active_products', 'pipeline_tags': '{}', 'step_key': 'process_product_collection', 'solid_name': 'process_product_collection', 'resource_name': 'None', 'resource_fn_name': 'None'}, event_specific_data=None, message='Started execution of step \"process_product_collection\".', pid=12762, step_key='process_product_collection'), DagsterEvent(event_type_value='LOADED_INPUT', pipeline_name='get_active_products', step_handle=StepHandle(solid_handle=NodeHandle(name='process_product_collection', parent=None), key='process_product_collection'), solid_handle=NodeHandle(name='process_product_collection', parent=None), step_kind_value='COMPUTE', logging_tags={'run_id': '4e6625d2-7d4b-457c-9b30-dd88612ef8c9', 'pipeline_name': 'get_active_products', 'pipeline_tags': '{}', 'step_key': 'process_product_collection', 'solid_name': 'process_product_collection', 'resource_name': 'None', 'resource_fn_name': 'None'}, event_specific_data=LoadedInputData(input_name='products', manager_key='io_manager', upstream_output_name='result', upstream_step_key='get_product_info[_products_geometry]'), message='Loaded input \"products\" using input manager \"io_manager\", from output \"result\" of step \"get_product_info[_products_geometry]\"', pid=12762, step_key='process_product_collection'), DagsterEvent(event_type_value='STEP_INPUT', pipeline_name='get_active_products', step_handle=StepHandle(solid_handle=NodeHandle(name='process_product_collection', parent=None), key='process_product_collection'), solid_handle=NodeHandle(name='process_product_collection', parent=None), step_kind_value='COMPUTE', logging_tags={'run_id': '4e6625d2-7d4b-457c-9b30-dd88612ef8c9', 'pipeline_name': 'get_active_products', 'pipeline_tags': '{}', 'step_key': 'process_product_collection', 'solid_name': 'process_product_collection', 'resource_name': 'None', 'resource_fn_name': 'None'}, event_specific_data=StepInputData(input_name='products', type_check_data=TypeCheckData(success=True, label='products', description=None, metadata_entries=[])), message='Got input \"products\" of type \"[dict]\". (Type check passed).', pid=12762, step_key='process_product_collection'), DagsterEvent(event_type_value='STEP_OUTPUT', pipeline_name='get_active_products', step_handle=StepHandle(solid_handle=NodeHandle(name='process_product_collection', parent=None), key='process_product_collection'), solid_handle=NodeHandle(name='process_product_collection', parent=None), step_kind_value='COMPUTE', logging_tags={'run_id': '4e6625d2-7d4b-457c-9b30-dd88612ef8c9', 'pipeline_name': 'get_active_products', 'pipeline_tags': '{}', 'step_key': 'process_product_collection', 'solid_name': 'process_product_collection', 'resource_name': 'None', 'resource_fn_name': 'None'}, event_specific_data=StepOutputData(step_output_handle=StepOutputHandle(step_key='process_product_collection', output_name='result', mapping_key=None), type_check_data=TypeCheckData(success=True, label='result', description=None, metadata_entries=[]), version=None, metadata_entries=[]), message='Yielded output \"result\" of type \"DataFrame\". (Type check passed).', pid=12762, step_key='process_product_collection'), DagsterEvent(event_type_value='HANDLED_OUTPUT', pipeline_name='get_active_products', step_handle=StepHandle(solid_handle=NodeHandle(name='process_product_collection', parent=None), key='process_product_collection'), solid_handle=NodeHandle(name='process_product_collection', parent=None), step_kind_value='COMPUTE', logging_tags={'run_id': '4e6625d2-7d4b-457c-9b30-dd88612ef8c9', 'pipeline_name': 'get_active_products', 'pipeline_tags': '{}', 'step_key': 'process_product_collection', 'solid_name': 'process_product_collection', 'resource_name': 'None', 'resource_fn_name': 'None'}, event_specific_data=HandledOutputData(output_name='result', manager_key='io_manager', metadata_entries=[]), message='Handled output \"result\" using IO manager \"io_manager\"', pid=12762, step_key='process_product_collection'), DagsterEvent(event_type_value='STEP_SUCCESS', pipeline_name='get_active_products', step_handle=StepHandle(solid_handle=NodeHandle(name='process_product_collection', parent=None), key='process_product_collection'), solid_handle=NodeHandle(name='process_product_collection', parent=None), step_kind_value='COMPUTE', logging_tags={'run_id': '4e6625d2-7d4b-457c-9b30-dd88612ef8c9', 'pipeline_name': 'get_active_products', 'pipeline_tags': '{}', 'step_key': 'process_product_collection', 'solid_name': 'process_product_collection', 'resource_name': 'None', 'resource_fn_name': 'None'}, event_specific_data=StepSuccessData(duration_ms=2.3149620000000315), message='Finished execution of step \"process_product_collection\" in 2.31ms.', pid=12762, step_key='process_product_collection'), DagsterEvent(event_type_value='ENGINE_EVENT', pipeline_name='get_active_products', step_handle=None, solid_handle=None, step_kind_value=None, logging_tags={}, event_specific_data=EngineEventData(metadata_entries=[EventMetadataEntry(label='pid', description=None, entry_data=TextMetadataEntryData(text='12762')), EventMetadataEntry(label='step_keys', description=None, entry_data=TextMetadataEntryData(text=\"['get_product_list', 'get_product_info[?]', 'process_product_collection']\"))], error=None, marker_start=None, marker_end=None), message='Finished steps in process (pid: 12762) in 65ms', pid=12762, step_key=None), DagsterEvent(event_type_value='PIPELINE_SUCCESS', pipeline_name='get_active_products', step_handle=None, solid_handle=None, step_kind_value=None, logging_tags={}, event_specific_data=None, message='Finished execution of run for \"get_active_products\".', pid=12762, step_key=None)], '_run_id': '4e6625d2-7d4b-457c-9b30-dd88612ef8c9', '_output_capture': {StepOutputHandle(step_key='get_product_list', output_name='result', mapping_key='_products_geometry'): '/products/geometry', StepOutputHandle(step_key='get_product_info[_products_geometry]', output_name='result', mapping_key=None): {'href': '/products/geometry', 'roaster': 'Onyx', 'name': ' Geometry', 'description': 'Geometry has been defined as \"describing spaces that lie beyond the normal range of human experience.\" Soon it will also be defined as \"that coffee from Onyx that I am in love with and completely redefined my relationship with coffee.\"\\nIt\\'s our answer for everything and has two of our favorite coffees—a washed processed Ethiopian & Colombian. This blend has become one of our favorite coffees. We love it as a filter coffee, and we love it as espresso. And not only does is it taste great as either but it\\'s easy to dial in as espresso or filter.', 'origin': 'Colombia, Ethiopia', 'process': 'Washed', 'elevation': '1950 - 2100 Meters', 'tasting_notes': 'Berries, Sweet Lemon, Earl Grey, Honey, Silky & Round'}, StepOutputHandle(step_key='process_product_collection', output_name='result', mapping_key=None):   roaster       name              origin           elevation                                        description                                      tasting_notes\n",
    "0    Onyx   Geometry  Colombia, Ethiopia  1950 - 2100 Meters  Geometry has been defined as \"describing space...  Berries, Sweet Lemon, Earl Grey, Honey, Silky ...}}"
   ]
  }
 ],
 "metadata": {
  "kernelspec": {
   "display_name": "coffee-scraping",
   "language": "python",
   "name": "coffee_scraping"
  },
  "language_info": {
   "codemirror_mode": {
    "name": "ipython",
    "version": 3
   },
   "file_extension": ".py",
   "mimetype": "text/x-python",
   "name": "python",
   "nbconvert_exporter": "python",
   "pygments_lexer": "ipython3",
   "version": "3.8.3"
  }
 },
 "nbformat": 4,
 "nbformat_minor": 5
}
